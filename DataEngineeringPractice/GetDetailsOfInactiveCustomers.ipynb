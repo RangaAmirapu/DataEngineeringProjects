{
 "cells": [
  {
   "cell_type": "markdown",
   "metadata": {},
   "source": [
    "# Exercise - Get details of inactive customers\n",
    "\n",
    "- Data is available in local file system /public/retail_db\n",
    "- Source directories: /public/retail_db/retail_db/orders and /public/retail_db/customers\n",
    "- Source delimiter: comma (“,”)\n",
    "- Source Columns - orders - order_id, order_date, order_customer_id, order_status\n",
    "- Source Columns - customers - customer_id, customer_fname, customer_lname and many more\n",
    "- Get the customers who have not placed any orders, sorted by customer_lname and then customer_fname\n",
    "- Target Columns: customer_lname, customer_fname\n",
    "- Number of files - 1\n",
    "- Target Directory: /user/YOUR_USER_ID/solutions/solutions02/inactive_customers\n",
    "- Target File Format: csv\n",
    "- Target Delimiter: comma (“, ”)\n",
    "- Compression: N/A\n",
    "- Validate the results"
   ]
  },
  {
   "cell_type": "code",
   "execution_count": 22,
   "metadata": {},
   "outputs": [
    {
     "name": "stdout",
     "output_type": "stream",
     "text": [
      "Found 6 items\n",
      "drwxr-xr-x   - hdfs hdfs          0 2016-12-19 03:52 /public/retail_db/categories\n",
      "drwxr-xr-x   - hdfs hdfs          0 2016-12-19 03:52 /public/retail_db/customers\n",
      "drwxr-xr-x   - hdfs hdfs          0 2016-12-19 03:52 /public/retail_db/departments\n",
      "drwxr-xr-x   - hdfs hdfs          0 2020-07-12 16:50 /public/retail_db/order_items\n",
      "drwxr-xr-x   - hdfs hdfs          0 2020-07-14 01:35 /public/retail_db/orders\n",
      "drwxr-xr-x   - hdfs hdfs          0 2016-12-19 03:52 /public/retail_db/products\n"
     ]
    }
   ],
   "source": [
    "%%bash\n",
    "\n",
    "hadoop fs -ls /public/retail_db"
   ]
  },
  {
   "cell_type": "code",
   "execution_count": 23,
   "metadata": {},
   "outputs": [
    {
     "name": "stdout",
     "output_type": "stream",
     "text": [
      "Found 1 items\n",
      "-rw-r--r--   2 hdfs hdfs    2999944 2020-07-14 01:35 /public/retail_db/orders/part-00000\n"
     ]
    }
   ],
   "source": [
    "%%bash\n",
    "\n",
    "hadoop fs -ls /public/retail_db/orders"
   ]
  },
  {
   "cell_type": "code",
   "execution_count": 25,
   "metadata": {},
   "outputs": [
    {
     "name": "stdout",
     "output_type": "stream",
     "text": [
      "Found 1 items\n",
      "-rw-r--r--   2 hdfs hdfs    2999944 2020-07-14 01:35 /public/retail_db/orders/part-00000\n"
     ]
    }
   ],
   "source": [
    "%%bash\n",
    "\n",
    "hadoop fs -ls /public/retail_db/orders"
   ]
  },
  {
   "cell_type": "code",
   "execution_count": 27,
   "metadata": {},
   "outputs": [
    {
     "name": "stdout",
     "output_type": "stream",
     "text": [
      "1,2013-07-25 00:00:00.0,11599,CLOSED\n",
      "2,2013-07-25 00:00:00.0,256,PENDING_PAYMENT\n",
      "3,2013-07-25 00:00:00.0,12111,COMPLETE\n",
      "4,2013-07-25 00:00:00.0,8827,CLOSED\n",
      "5,2013-07-25 00:00:00.0,11318,COMPLETE\n",
      "6,2013-07-25 00:00:00.0,7130,COMPLETE\n",
      "7,2013-07-25 00:00:00.0,4530,COMPLETE\n",
      "8,2013-07-25 00:00:00.0,2911,PROCESSING\n",
      "9,2013-07-25 00:00:00.0,5657,PENDING_PAYMENT\n",
      "10,2013-07-25 00:00:00.0,5648,PENDING_PAYMENT\n"
     ]
    },
    {
     "name": "stderr",
     "output_type": "stream",
     "text": [
      "cat: Unable to write to output stream.\n"
     ]
    }
   ],
   "source": [
    "%%bash\n",
    "\n",
    "hadoop fs -cat /public/retail_db/orders/part-00000 | head\n",
    "\n",
    "#order_id, order_date, order_customer_id, order_status"
   ]
  },
  {
   "cell_type": "code",
   "execution_count": 28,
   "metadata": {},
   "outputs": [
    {
     "name": "stdout",
     "output_type": "stream",
     "text": [
      "1,Richard,Hernandez,XXXXXXXXX,XXXXXXXXX,6303 Heather Plaza,Brownsville,TX,78521\n",
      "2,Mary,Barrett,XXXXXXXXX,XXXXXXXXX,9526 Noble Embers Ridge,Littleton,CO,80126\n",
      "3,Ann,Smith,XXXXXXXXX,XXXXXXXXX,3422 Blue Pioneer Bend,Caguas,PR,00725\n",
      "4,Mary,Jones,XXXXXXXXX,XXXXXXXXX,8324 Little Common,San Marcos,CA,92069\n",
      "5,Robert,Hudson,XXXXXXXXX,XXXXXXXXX,\"10 Crystal River Mall \",Caguas,PR,00725\n",
      "6,Mary,Smith,XXXXXXXXX,XXXXXXXXX,3151 Sleepy Quail Promenade,Passaic,NJ,07055\n",
      "7,Melissa,Wilcox,XXXXXXXXX,XXXXXXXXX,9453 High Concession,Caguas,PR,00725\n",
      "8,Megan,Smith,XXXXXXXXX,XXXXXXXXX,3047 Foggy Forest Plaza,Lawrence,MA,01841\n",
      "9,Mary,Perez,XXXXXXXXX,XXXXXXXXX,3616 Quaking Street,Caguas,PR,00725\n",
      "10,Melissa,Smith,XXXXXXXXX,XXXXXXXXX,8598 Harvest Beacon Plaza,Stafford,VA,22554\n"
     ]
    },
    {
     "name": "stderr",
     "output_type": "stream",
     "text": [
      "cat: Unable to write to output stream.\n"
     ]
    }
   ],
   "source": [
    "%%bash\n",
    "\n",
    "hadoop fs -cat /public/retail_db/customers/part-00000 | head\n",
    "\n",
    "#customer_id,customer_fname,customer_lname,customer_email,customer_password,customer_street,customer_city,customer_state,customer_zipcode"
   ]
  },
  {
   "cell_type": "code",
   "execution_count": 29,
   "metadata": {},
   "outputs": [],
   "source": [
    "from pyspark.sql import SparkSession\n",
    "\n",
    "from pyspark.sql.functions import *"
   ]
  },
  {
   "cell_type": "code",
   "execution_count": 30,
   "metadata": {},
   "outputs": [],
   "source": [
    "spark = (SparkSession\n",
    "         .builder\n",
    "         .config('spark.ui.port', 0)\n",
    "         .appName('InactiveCustomers')\n",
    "         .master('yarn')\n",
    "         .getOrCreate()\n",
    ")"
   ]
  },
  {
   "cell_type": "code",
   "execution_count": 31,
   "metadata": {},
   "outputs": [],
   "source": [
    "ordersSchema = \"`order_id` INT, `order_date` STRING, `order_customer_id` INT, `order_status` STRING\"\n",
    "\n",
    "customersSchema = \"\"\"`customer_id` INT , `customer_fname` STRING, `customer_lname` STRING, `customer_email` STRING, `customer_password` STRING, `customer_street` STRING, `customer_city` STRING, `customer_state` STRING, `customer_zipcode` INT\"\"\""
   ]
  },
  {
   "cell_type": "code",
   "execution_count": 37,
   "metadata": {},
   "outputs": [
    {
     "name": "stdout",
     "output_type": "stream",
     "text": [
      "+--------+--------------------+-----------------+---------------+\n",
      "|order_id|          order_date|order_customer_id|   order_status|\n",
      "+--------+--------------------+-----------------+---------------+\n",
      "|       1|2013-07-25 00:00:...|            11599|         CLOSED|\n",
      "|       2|2013-07-25 00:00:...|              256|PENDING_PAYMENT|\n",
      "|       3|2013-07-25 00:00:...|            12111|       COMPLETE|\n",
      "|       4|2013-07-25 00:00:...|             8827|         CLOSED|\n",
      "|       5|2013-07-25 00:00:...|            11318|       COMPLETE|\n",
      "|       6|2013-07-25 00:00:...|             7130|       COMPLETE|\n",
      "|       7|2013-07-25 00:00:...|             4530|       COMPLETE|\n",
      "|       8|2013-07-25 00:00:...|             2911|     PROCESSING|\n",
      "|       9|2013-07-25 00:00:...|             5657|PENDING_PAYMENT|\n",
      "|      10|2013-07-25 00:00:...|             5648|PENDING_PAYMENT|\n",
      "|      11|2013-07-25 00:00:...|              918| PAYMENT_REVIEW|\n",
      "|      12|2013-07-25 00:00:...|             1837|         CLOSED|\n",
      "|      13|2013-07-25 00:00:...|             9149|PENDING_PAYMENT|\n",
      "|      14|2013-07-25 00:00:...|             9842|     PROCESSING|\n",
      "|      15|2013-07-25 00:00:...|             2568|       COMPLETE|\n",
      "|      16|2013-07-25 00:00:...|             7276|PENDING_PAYMENT|\n",
      "|      17|2013-07-25 00:00:...|             2667|       COMPLETE|\n",
      "|      18|2013-07-25 00:00:...|             1205|         CLOSED|\n",
      "|      19|2013-07-25 00:00:...|             9488|PENDING_PAYMENT|\n",
      "|      20|2013-07-25 00:00:...|             9198|     PROCESSING|\n",
      "+--------+--------------------+-----------------+---------------+\n",
      "only showing top 20 rows\n",
      "\n"
     ]
    }
   ],
   "source": [
    "orders_df = (spark\n",
    "          .read\n",
    "          .schema(ordersSchema)\n",
    "          .csv(\"/public/retail_db/orders/\")\n",
    ")\n",
    "\n",
    "orders_df.show()"
   ]
  },
  {
   "cell_type": "code",
   "execution_count": 38,
   "metadata": {},
   "outputs": [
    {
     "name": "stdout",
     "output_type": "stream",
     "text": [
      "+-----------+--------------+--------------+--------------+-----------------+--------------------+-------------+--------------+----------------+\n",
      "|customer_id|customer_fname|customer_lname|customer_email|customer_password|     customer_street|customer_city|customer_state|customer_zipcode|\n",
      "+-----------+--------------+--------------+--------------+-----------------+--------------------+-------------+--------------+----------------+\n",
      "|          1|       Richard|     Hernandez|     XXXXXXXXX|        XXXXXXXXX|  6303 Heather Plaza|  Brownsville|            TX|           78521|\n",
      "|          2|          Mary|       Barrett|     XXXXXXXXX|        XXXXXXXXX|9526 Noble Embers...|    Littleton|            CO|           80126|\n",
      "|          3|           Ann|         Smith|     XXXXXXXXX|        XXXXXXXXX|3422 Blue Pioneer...|       Caguas|            PR|             725|\n",
      "|          4|          Mary|         Jones|     XXXXXXXXX|        XXXXXXXXX|  8324 Little Common|   San Marcos|            CA|           92069|\n",
      "|          5|        Robert|        Hudson|     XXXXXXXXX|        XXXXXXXXX|10 Crystal River ...|       Caguas|            PR|             725|\n",
      "|          6|          Mary|         Smith|     XXXXXXXXX|        XXXXXXXXX|3151 Sleepy Quail...|      Passaic|            NJ|            7055|\n",
      "|          7|       Melissa|        Wilcox|     XXXXXXXXX|        XXXXXXXXX|9453 High Concession|       Caguas|            PR|             725|\n",
      "|          8|         Megan|         Smith|     XXXXXXXXX|        XXXXXXXXX|3047 Foggy Forest...|     Lawrence|            MA|            1841|\n",
      "|          9|          Mary|         Perez|     XXXXXXXXX|        XXXXXXXXX| 3616 Quaking Street|       Caguas|            PR|             725|\n",
      "|         10|       Melissa|         Smith|     XXXXXXXXX|        XXXXXXXXX|8598 Harvest Beac...|     Stafford|            VA|           22554|\n",
      "|         11|          Mary|       Huffman|     XXXXXXXXX|        XXXXXXXXX|    3169 Stony Woods|       Caguas|            PR|             725|\n",
      "|         12|   Christopher|         Smith|     XXXXXXXXX|        XXXXXXXXX|5594 Jagged Ember...|  San Antonio|            TX|           78227|\n",
      "|         13|          Mary|       Baldwin|     XXXXXXXXX|        XXXXXXXXX|7922 Iron Oak Gar...|       Caguas|            PR|             725|\n",
      "|         14|     Katherine|         Smith|     XXXXXXXXX|        XXXXXXXXX|5666 Hazy Pony Sq...|  Pico Rivera|            CA|           90660|\n",
      "|         15|          Jane|          Luna|     XXXXXXXXX|        XXXXXXXXX|    673 Burning Glen|      Fontana|            CA|           92336|\n",
      "|         16|       Tiffany|         Smith|     XXXXXXXXX|        XXXXXXXXX|      6651 Iron Port|       Caguas|            PR|             725|\n",
      "|         17|          Mary|      Robinson|     XXXXXXXXX|        XXXXXXXXX|     1325 Noble Pike|       Taylor|            MI|           48180|\n",
      "|         18|        Robert|         Smith|     XXXXXXXXX|        XXXXXXXXX|2734 Hazy Butterf...|     Martinez|            CA|           94553|\n",
      "|         19|     Stephanie|      Mitchell|     XXXXXXXXX|        XXXXXXXXX|3543 Red Treasure...|       Caguas|            PR|             725|\n",
      "|         20|          Mary|         Ellis|     XXXXXXXXX|        XXXXXXXXX|      4703 Old Route|West New York|            NJ|            7093|\n",
      "+-----------+--------------+--------------+--------------+-----------------+--------------------+-------------+--------------+----------------+\n",
      "only showing top 20 rows\n",
      "\n"
     ]
    }
   ],
   "source": [
    "customers_df = (spark\n",
    "          .read\n",
    "          .schema(customersSchema)\n",
    "          .csv(\"/public/retail_db/customers/\")\n",
    ")\n",
    "\n",
    "customers_df.show()"
   ]
  },
  {
   "cell_type": "code",
   "execution_count": 46,
   "metadata": {},
   "outputs": [
    {
     "name": "stdout",
     "output_type": "stream",
     "text": [
      "+--------------+--------------+\n",
      "|customer_lname|customer_fname|\n",
      "+--------------+--------------+\n",
      "|        Bolton|          Mary|\n",
      "|       Ellison|        Albert|\n",
      "|         Green|       Carolyn|\n",
      "|        Greene|          Mary|\n",
      "|       Harrell|          Mary|\n",
      "|         Lewis|          Mary|\n",
      "|       Mueller|          Mary|\n",
      "|         Patel|       Matthew|\n",
      "|          Shaw|          Mary|\n",
      "|         Smith|        Amanda|\n",
      "|         Smith|        Ashley|\n",
      "|         Smith|          Carl|\n",
      "|         Smith|          Emma|\n",
      "|         Smith|         Grace|\n",
      "|         Smith|         James|\n",
      "|         Smith|          Joan|\n",
      "|         Smith|       Kenneth|\n",
      "|         Smith|         Kevin|\n",
      "|         Smith|          Mary|\n",
      "|         Smith|          Mary|\n",
      "+--------------+--------------+\n",
      "only showing top 20 rows\n",
      "\n"
     ]
    }
   ],
   "source": [
    "customerWithNoOrders_df = (customers_df\n",
    "                      .join(orders_df, customers_df.customer_id == orders_df.order_customer_id, 'left')\n",
    "                      .filter(orders_df.order_status.isNull())\n",
    "                     )\n",
    "\n",
    "customerWithNoOrders_df = customerWithNoOrders_df.select(customers_df.customer_lname, customers_df.customer_fname).sort(\"customer_lname\", \"customer_fname\")\n",
    "\n",
    "customerWithNoOrders_df.show()"
   ]
  },
  {
   "cell_type": "code",
   "execution_count": 54,
   "metadata": {},
   "outputs": [],
   "source": [
    "(customerWithNoOrders_df\n",
    "  .coalesce(1)\n",
    "  .write\n",
    "  .mode(\"overwrite\")\n",
    "  .option(\"header\", \"True\")\n",
    "  .csv(\"/user/ranga_rao/solutions/solutions02/inactive_customers\")\n",
    ")"
   ]
  },
  {
   "cell_type": "code",
   "execution_count": 55,
   "metadata": {},
   "outputs": [
    {
     "name": "stdout",
     "output_type": "stream",
     "text": [
      "Found 2 items\n",
      "-rw-r--r--   2 ranga_rao hdfs          0 2020-09-11 05:37 /user/ranga_rao/solutions/solutions02/inactive_customers/_SUCCESS\n",
      "-rw-r--r--   2 ranga_rao hdfs        402 2020-09-11 05:37 /user/ranga_rao/solutions/solutions02/inactive_customers/part-00000-e5f5a0f2-3026-4256-97c1-916b9c8aee74-c000.csv\n"
     ]
    }
   ],
   "source": [
    "%%bash\n",
    "\n",
    "hadoop fs -ls \"/user/ranga_rao/solutions/solutions02/inactive_customers\""
   ]
  },
  {
   "cell_type": "code",
   "execution_count": 57,
   "metadata": {},
   "outputs": [
    {
     "name": "stdout",
     "output_type": "stream",
     "text": [
      "customer_lname,customer_fname\n",
      "Bolton,Mary\n",
      "Ellison,Albert\n",
      "Green,Carolyn\n",
      "Greene,Mary\n",
      "Harrell,Mary\n",
      "Lewis,Mary\n",
      "Mueller,Mary\n",
      "Patel,Matthew\n",
      "Shaw,Mary\n"
     ]
    }
   ],
   "source": [
    "%%bash\n",
    "\n",
    "hadoop fs -cat \"/user/ranga_rao/solutions/solutions02/inactive_customers/part-00000-e5f5a0f2-3026-4256-97c1-916b9c8aee74-c000.csv\" | head"
   ]
  },
  {
   "cell_type": "code",
   "execution_count": 59,
   "metadata": {},
   "outputs": [
    {
     "name": "stdout",
     "output_type": "stream",
     "text": [
      "+--------------+--------------+\n",
      "|customer_lname|customer_fname|\n",
      "+--------------+--------------+\n",
      "|        Bolton|          Mary|\n",
      "|       Ellison|        Albert|\n",
      "|         Green|       Carolyn|\n",
      "|        Greene|          Mary|\n",
      "|       Harrell|          Mary|\n",
      "|         Lewis|          Mary|\n",
      "|       Mueller|          Mary|\n",
      "|         Patel|       Matthew|\n",
      "|          Shaw|          Mary|\n",
      "|         Smith|        Amanda|\n",
      "|         Smith|        Ashley|\n",
      "|         Smith|          Carl|\n",
      "|         Smith|          Emma|\n",
      "|         Smith|         Grace|\n",
      "|         Smith|         James|\n",
      "|         Smith|          Joan|\n",
      "|         Smith|       Kenneth|\n",
      "|         Smith|         Kevin|\n",
      "|         Smith|          Mary|\n",
      "|         Smith|          Mary|\n",
      "+--------------+--------------+\n",
      "only showing top 20 rows\n",
      "\n"
     ]
    }
   ],
   "source": [
    "customerWithNoOrders_verification_df = (spark\n",
    "          .read\n",
    "          .option(\"header\", \"True\")\n",
    "          .option(\"inferSchema\", \"True\")\n",
    "          .csv(\"/user/ranga_rao/solutions/solutions02/inactive_customers\")\n",
    ")\n",
    "\n",
    "customerWithNoOrders_verification_df.show()"
   ]
  },
  {
   "cell_type": "code",
   "execution_count": 61,
   "metadata": {},
   "outputs": [
    {
     "data": {
      "text/plain": [
       "30"
      ]
     },
     "execution_count": 61,
     "metadata": {},
     "output_type": "execute_result"
    }
   ],
   "source": [
    "customerWithNoOrders_verification_df.count()"
   ]
  },
  {
   "cell_type": "code",
   "execution_count": null,
   "metadata": {},
   "outputs": [],
   "source": [
    "|"
   ]
  }
 ],
 "metadata": {
  "kernelspec": {
   "display_name": "Pyspark 2",
   "language": "python",
   "name": "pyspark2"
  },
  "language_info": {
   "codemirror_mode": {
    "name": "ipython",
    "version": 3
   },
   "file_extension": ".py",
   "mimetype": "text/x-python",
   "name": "python",
   "nbconvert_exporter": "python",
   "pygments_lexer": "ipython3",
   "version": "3.6.8"
  }
 },
 "nbformat": 4,
 "nbformat_minor": 4
}
