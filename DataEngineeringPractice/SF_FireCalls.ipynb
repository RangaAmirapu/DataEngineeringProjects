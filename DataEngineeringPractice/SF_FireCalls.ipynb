{
 "cells": [
  {
   "cell_type": "markdown",
   "metadata": {},
   "source": [
    "# San Francisco Fire Calls Analysis\n",
    "\n",
    "\n",
    "- How many distinct types of calls were made to the Fire Department?\n",
    "\n",
    "- What are distinct types of calls were made to the Fire Department?\n",
    "\n",
    "- Find out all response or delayed times greater than 5 mins?\n",
    "\n",
    "- What were the most common call types?\n",
    "\n",
    "- What zip codes accounted for most common calls?\n",
    "\n",
    "- What San Francisco neighborhoods are in the zip codes 94102 and 94103\n",
    "\n",
    "- What was the sum of all calls, average, min and max of the response times for calls?\n",
    "\n",
    "- How many distinct years of data is in the CSV file?\n",
    "\n",
    "- What week of the year in 2018 had the most fire calls?\n",
    "\n",
    "- What neighborhoods in San Francisco had the worst response time in 2018?\n",
    "\n",
    "- How can we use Parquet files to store data and read it back?\n"
   ]
  },
  {
   "cell_type": "code",
   "execution_count": 2,
   "metadata": {},
   "outputs": [
    {
     "name": "stdout",
     "output_type": "stream",
     "text": [
      "-rw-r--r--   2 ranga_rao hdfs   44530123 2020-09-11 16:46 /user/ranga_rao/learningSparkBook/sf-fire-calls.csv\n"
     ]
    }
   ],
   "source": [
    "%%bash\n",
    "\n",
    "hadoop fs -ls /user/ranga_rao/learningSparkBook/sf-fire-calls.csv"
   ]
  },
  {
   "cell_type": "code",
   "execution_count": 3,
   "metadata": {},
   "outputs": [
    {
     "name": "stdout",
     "output_type": "stream",
     "text": [
      "CallNumber,UnitID,IncidentNumber,CallType,CallDate,WatchDate,CallFinalDisposition,AvailableDtTm,Address,City,Zipcode,Battalion,StationArea,Box,OriginalPriority,Priority,FinalPriority,ALSUnit,CallTypeGroup,NumAlarms,UnitType,UnitSequenceInCallDispatch,FirePreventionDistrict,SupervisorDistrict,Neighborhood,Location,RowID,Delay\n",
      "20110016,T13,2003235,Structure Fire,01/11/2002,01/10/2002,Other,01/11/2002 01:51:44 AM,2000 Block of CALIFORNIA ST,SF,94109,B04,38,3362,3,3,3,false,\"\",1,TRUCK,2,4,5,Pacific Heights,\"(37.7895840679362, -122.428071912459)\",020110016-T13,2.95\n",
      "20110022,M17,2003241,Medical Incident,01/11/2002,01/10/2002,Other,01/11/2002 03:01:18 AM,0 Block of SILVERVIEW DR,SF,94124,B10,42,6495,3,3,3,true,\"\",1,MEDIC,1,10,10,Bayview Hunters Point,\"(37.7337623673897, -122.396113802632)\",020110022-M17,4.7\n",
      "20110023,M41,2003242,Medical Incident,01/11/2002,01/10/2002,Other,01/11/2002 02:39:50 AM,MARKET ST/MCALLISTER ST,SF,94102,B03,01,1455,3,3,3,true,\"\",1,MEDIC,2,3,6,Tenderloin,\"(37.7811772186856, -122.411699931232)\",020110023-M41,2.4333334\n",
      "20110032,E11,2003250,Vehicle Fire,01/11/2002,01/10/2002,Other,01/11/2002 04:16:46 AM,APPLETON AV/MISSION ST,SF,94110,B06,32,5626,3,3,3,false,\"\",1,ENGINE,1,6,9,Bernal Heights,\"(37.7388432849018, -122.423948785199)\",020110032-E11,1.5\n",
      "20110043,B04,2003259,Alarms,01/11/2002,01/10/2002,Other,01/11/2002 06:01:58 AM,1400 Block of SUTTER ST,SF,94109,B04,03,3223,3,3,3,false,\"\",1,CHIEF,2,4,2,Western Addition,\"(37.7872890372638, -122.424236212664)\",020110043-B04,3.4833333\n",
      "20110072,T08,2003279,Structure Fire,01/11/2002,01/11/2002,Other,01/11/2002 08:03:26 AM,BEALE ST/FOLSOM ST,SF,94105,B03,35,2122,3,3,3,false,\"\",1,TRUCK,2,3,6,Financial District/South Beach,\"(37.7886866619654, -122.392722833778)\",020110072-T08,1.75\n",
      "20110125,E33,2003301,Alarms,01/11/2002,01/11/2002,Other,01/11/2002 09:46:44 AM,0 Block of FARALLONES ST,SF,94112,B09,33,8324,3,3,3,false,\"\",1,ENGINE,2,9,11,Oceanview/Merced/Ingleside,\"(37.7140353531157, -122.454117149916)\",020110125-E33,2.7166667\n",
      "20110130,E36,2003304,Alarms,01/11/2002,01/11/2002,Other,01/11/2002 09:58:53 AM,600 Block of POLK ST,SF,94102,B02,03,3114,3,3,3,false,\"\",1,ENGINE,1,2,6,Tenderloin,\"(37.7826266328595, -122.41915582123)\",020110130-E36,1.7833333\n",
      "20110197,E05,2003343,Medical Incident,01/11/2002,01/11/2002,Other,01/11/2002 12:06:57 PM,1500 Block of WEBSTER ST,SF,94115,B04,05,3513,3,3,3,false,\"\",1,ENGINE,1,4,5,Japantown,\"(37.784958590666, -122.431435274503)\",020110197-E05,1.5166667\n"
     ]
    },
    {
     "name": "stderr",
     "output_type": "stream",
     "text": [
      "cat: Unable to write to output stream.\n"
     ]
    }
   ],
   "source": [
    "%%bash\n",
    "\n",
    "hadoop fs -cat /user/ranga_rao/learningSparkBook/sf-fire-calls.csv | head"
   ]
  },
  {
   "cell_type": "code",
   "execution_count": 4,
   "metadata": {},
   "outputs": [],
   "source": [
    "from pyspark.sql import SparkSession\n",
    "from pyspark.sql.types import *\n",
    "from pyspark.sql.functions import *"
   ]
  },
  {
   "cell_type": "code",
   "execution_count": 5,
   "metadata": {},
   "outputs": [],
   "source": [
    "#spark.stop()\n",
    "\n",
    "spark = (SparkSession\n",
    "         .builder\n",
    "         .config('spark.ui.port', 0)\n",
    "         .appName('SF_FireCallsAnalysis')\n",
    "         .master('yarn')\n",
    "         .getOrCreate()\n",
    ")"
   ]
  },
  {
   "cell_type": "code",
   "execution_count": 6,
   "metadata": {},
   "outputs": [
    {
     "data": {
      "text/html": [
       "\n",
       "            <div>\n",
       "                <p><b>SparkSession - hive</b></p>\n",
       "                \n",
       "        <div>\n",
       "            <p><b>SparkContext</b></p>\n",
       "\n",
       "            <p><a href=\"http://gw03.itversity.com:35149\">Spark UI</a></p>\n",
       "\n",
       "            <dl>\n",
       "              <dt>Version</dt>\n",
       "                <dd><code>v2.3.0.2.6.5.0-292</code></dd>\n",
       "              <dt>Master</dt>\n",
       "                <dd><code>yarn</code></dd>\n",
       "              <dt>AppName</dt>\n",
       "                <dd><code>SF_FireCallsAnalysis</code></dd>\n",
       "            </dl>\n",
       "        </div>\n",
       "        \n",
       "            </div>\n",
       "        "
      ],
      "text/plain": [
       "<pyspark.sql.session.SparkSession at 0x7feb5d7f9c50>"
      ]
     },
     "execution_count": 6,
     "metadata": {},
     "output_type": "execute_result"
    }
   ],
   "source": [
    "spark"
   ]
  },
  {
   "cell_type": "code",
   "execution_count": 7,
   "metadata": {},
   "outputs": [],
   "source": [
    "#Cols: \n",
    "#,UnitID,IncidentNumber,CallType,CallDate,WatchDate,CallFinalDisposition,AvailableDtTm,Address,City,Zipcode,Battalion,StationArea,Box,OriginalPriority,Priority,\n",
    "#FinalPriority,ALSUnit,CallTypeGroup,NumAlarms,UnitType,UnitSequenceInCallDispatch,FirePreventionDistrict,SupervisorDistrict,Neighborhood,Location,RowID,Delay\n",
    "\n",
    "#20110016,T13,2003235,Structure Fire,01/11/2002,01/10/2002,Other,01/11/2002 01:51:44 AM,2000 Block of CALIFORNIA ST,SF,94109,B04,38,3362,3,3,3,false,\"\",1,\n",
    "#TRUCK,2,4,5,Pacific Heights,\"(37.7895840679362, -122.428071912459)\",020110016-T13,2.95\n",
    "\n",
    "schema = StructType([StructField('CallNumber', IntegerType(), True),\n",
    "                     StructField('UnitID', StringType(), True),\n",
    "                     StructField('IncidentNumber', IntegerType(), True),\n",
    "                     StructField('CallType', StringType(), True),                  \n",
    "                     StructField('CallDate', StringType(), True),      \n",
    "                     StructField('WatchDate', StringType(), True),\n",
    "                     StructField('CallFinalDisposition', StringType(), True),\n",
    "                     StructField('AvailableDtTm', StringType(), True),\n",
    "                     StructField('Address', StringType(), True),       \n",
    "                     StructField('City', StringType(), True),       \n",
    "                     StructField('Zipcode', IntegerType(), True),       \n",
    "                     StructField('Battalion', StringType(), True),                 \n",
    "                     StructField('StationArea', StringType(), True),       \n",
    "                     StructField('Box', StringType(), True),       \n",
    "                     StructField('OriginalPriority', StringType(), True),       \n",
    "                     StructField('Priority', StringType(), True),       \n",
    "                     StructField('FinalPriority', IntegerType(), True),       \n",
    "                     StructField('ALSUnit', BooleanType(), True),       \n",
    "                     StructField('CallTypeGroup', StringType(), True),\n",
    "                     StructField('NumAlarms', IntegerType(), True),\n",
    "                     StructField('UnitType', StringType(), True),\n",
    "                     StructField('UnitSequenceInCallDispatch', IntegerType(), True),\n",
    "                     StructField('FirePreventionDistrict', StringType(), True),\n",
    "                     StructField('SupervisorDistrict', StringType(), True),\n",
    "                     StructField('Neighborhood', StringType(), True),\n",
    "                     StructField('Location', StringType(), True),\n",
    "                     StructField('RowID', StringType(), True),\n",
    "                     StructField('Delay', FloatType(), True)])"
   ]
  },
  {
   "cell_type": "code",
   "execution_count": 8,
   "metadata": {},
   "outputs": [
    {
     "name": "stdout",
     "output_type": "stream",
     "text": [
      "+----------+------+--------------+----------------+----------+----------+--------------------+--------------------+--------------------+----+-------+---------+-----------+----+----------------+--------+-------------+-------+-------------+---------+--------------+--------------------------+----------------------+------------------+--------------------+--------------------+-------------+---------+\n",
      "|CallNumber|UnitID|IncidentNumber|        CallType|  CallDate| WatchDate|CallFinalDisposition|       AvailableDtTm|             Address|City|Zipcode|Battalion|StationArea| Box|OriginalPriority|Priority|FinalPriority|ALSUnit|CallTypeGroup|NumAlarms|      UnitType|UnitSequenceInCallDispatch|FirePreventionDistrict|SupervisorDistrict|        Neighborhood|            Location|        RowID|    Delay|\n",
      "+----------+------+--------------+----------------+----------+----------+--------------------+--------------------+--------------------+----+-------+---------+-----------+----+----------------+--------+-------------+-------+-------------+---------+--------------+--------------------------+----------------------+------------------+--------------------+--------------------+-------------+---------+\n",
      "|  20110016|   T13|       2003235|  Structure Fire|01/11/2002|01/10/2002|               Other|01/11/2002 01:51:...|2000 Block of CAL...|  SF|  94109|      B04|         38|3362|               3|       3|            3|  false|         null|        1|         TRUCK|                         2|                     4|                 5|     Pacific Heights|(37.7895840679362...|020110016-T13|     2.95|\n",
      "|  20110022|   M17|       2003241|Medical Incident|01/11/2002|01/10/2002|               Other|01/11/2002 03:01:...|0 Block of SILVER...|  SF|  94124|      B10|         42|6495|               3|       3|            3|   true|         null|        1|         MEDIC|                         1|                    10|                10|Bayview Hunters P...|(37.7337623673897...|020110022-M17|      4.7|\n",
      "|  20110023|   M41|       2003242|Medical Incident|01/11/2002|01/10/2002|               Other|01/11/2002 02:39:...|MARKET ST/MCALLIS...|  SF|  94102|      B03|         01|1455|               3|       3|            3|   true|         null|        1|         MEDIC|                         2|                     3|                 6|          Tenderloin|(37.7811772186856...|020110023-M41|2.4333334|\n",
      "|  20110032|   E11|       2003250|    Vehicle Fire|01/11/2002|01/10/2002|               Other|01/11/2002 04:16:...|APPLETON AV/MISSI...|  SF|  94110|      B06|         32|5626|               3|       3|            3|  false|         null|        1|        ENGINE|                         1|                     6|                 9|      Bernal Heights|(37.7388432849018...|020110032-E11|      1.5|\n",
      "|  20110043|   B04|       2003259|          Alarms|01/11/2002|01/10/2002|               Other|01/11/2002 06:01:...|1400 Block of SUT...|  SF|  94109|      B04|         03|3223|               3|       3|            3|  false|         null|        1|         CHIEF|                         2|                     4|                 2|    Western Addition|(37.7872890372638...|020110043-B04|3.4833333|\n",
      "|  20110072|   T08|       2003279|  Structure Fire|01/11/2002|01/11/2002|               Other|01/11/2002 08:03:...|  BEALE ST/FOLSOM ST|  SF|  94105|      B03|         35|2122|               3|       3|            3|  false|         null|        1|         TRUCK|                         2|                     3|                 6|Financial Distric...|(37.7886866619654...|020110072-T08|     1.75|\n",
      "|  20110125|   E33|       2003301|          Alarms|01/11/2002|01/11/2002|               Other|01/11/2002 09:46:...|0 Block of FARALL...|  SF|  94112|      B09|         33|8324|               3|       3|            3|  false|         null|        1|        ENGINE|                         2|                     9|                11|Oceanview/Merced/...|(37.7140353531157...|020110125-E33|2.7166667|\n",
      "|  20110130|   E36|       2003304|          Alarms|01/11/2002|01/11/2002|               Other|01/11/2002 09:58:...|600 Block of POLK ST|  SF|  94102|      B02|         03|3114|               3|       3|            3|  false|         null|        1|        ENGINE|                         1|                     2|                 6|          Tenderloin|(37.7826266328595...|020110130-E36|1.7833333|\n",
      "|  20110197|   E05|       2003343|Medical Incident|01/11/2002|01/11/2002|               Other|01/11/2002 12:06:...|1500 Block of WEB...|  SF|  94115|      B04|         05|3513|               3|       3|            3|  false|         null|        1|        ENGINE|                         1|                     4|                 5|           Japantown|(37.784958590666,...|020110197-E05|1.5166667|\n",
      "|  20110215|   E06|       2003348|Medical Incident|01/11/2002|01/11/2002|               Other|01/11/2002 01:08:...|DIAMOND ST/MARKET ST|  SF|  94114|      B05|         06|5415|               3|       3|            3|  false|         null|        1|        ENGINE|                         1|                     5|                 8| Castro/Upper Market|(37.7618954753708...|020110215-E06|2.7666667|\n",
      "|  20110274|   M07|       2003381|Medical Incident|01/11/2002|01/11/2002|               Other|01/11/2002 03:31:...|2700 Block of MIS...|  SF|  94110|      B06|         11|5525|               1|       1|            2|   true|         null|        1|         MEDIC|                         1|                     6|                 9|             Mission|(37.7530339738059...|020110274-M07|2.1833334|\n",
      "|  20110275|   T15|       2003382|  Structure Fire|01/11/2002|01/11/2002|               Other|01/11/2002 02:59:...|BRUNSWICK ST/GUTT...|  SF|  94112|      B09|         43|6218|               3|       3|            3|  false|         null|        1|         TRUCK|                         1|                     9|                11|           Excelsior|(37.7105545807996...|020110275-T15|      2.5|\n",
      "|  20110304|   E03|       2003399|Medical Incident|01/11/2002|01/11/2002|               Other|01/11/2002 04:22:...|1000 Block of SUT...|  SF|  94109|      B04|         03|1557|               3|       3|            3|  false|         null|        1|        ENGINE|                         1|                     4|                 3|            Nob Hill|(37.7881263034393...|020110304-E03|2.4166667|\n",
      "|  20110308|   E14|       2003403|Medical Incident|01/11/2002|01/11/2002|               Other|01/11/2002 04:18:...|100 Block of 21ST...|  SF|  94121|      B07|         14|7173|               3|       3|            3|  false|         null|        1|        ENGINE|                         1|                     7|                 1|      Outer Richmond|(37.7850084431077...|020110308-E14|     4.95|\n",
      "|  20110313|   B10|       2003408|  Structure Fire|01/11/2002|01/11/2002|               Other|01/11/2002 04:09:...|700 Block of CAPP ST|  SF|  94110|      B06|         07|5472|               3|       3|            3|  false|         null|        1|         CHIEF|                         6|                     6|                 9|             Mission|(37.7547064357942...|020110313-B10|1.4166666|\n",
      "|  20110313|    D3|       2003408|  Structure Fire|01/11/2002|01/11/2002|               Other|01/11/2002 04:09:...|700 Block of CAPP ST|  SF|  94110|      B06|         07|5472|               3|       3|            3|  false|         null|        1|         CHIEF|                         4|                     6|                 9|             Mission|(37.7547064357942...| 020110313-D3|2.5333333|\n",
      "|  20110313|   E32|       2003408|  Structure Fire|01/11/2002|01/11/2002|               Other|01/11/2002 04:09:...|700 Block of CAPP ST|  SF|  94110|      B06|         07|5472|               3|       3|            3|   true|         null|        1|        ENGINE|                         8|                     6|                 9|             Mission|(37.7547064357942...|020110313-E32|1.8833333|\n",
      "|  20110315|   RC2|       2003409|Medical Incident|01/11/2002|01/11/2002|               Other|01/11/2002 04:34:...|200 Block of LAGU...|  SF|  94116|      B08|         20|8635|               3|       3|            3|   true|         null|        1|RESCUE CAPTAIN|                         2|                     8|                 7|  West of Twin Peaks|(37.7501117393668...|020110315-RC2|     5.35|\n",
      "|  20110330|   E14|       2003417|Medical Incident|01/11/2002|01/11/2002|               Other|01/11/2002 04:51:...|BALBOA ST/PARK PR...|  SF|  94118|      B07|         31|7145|               3|       3|            3|  false|         null|        1|        ENGINE|                         1|                     7|                 1|      Inner Richmond|(37.7768682293368...|020110330-E14|      2.0|\n",
      "|  20110330|   M12|       2003417|Medical Incident|01/11/2002|01/11/2002|               Other|01/11/2002 04:51:...|BALBOA ST/PARK PR...|  SF|  94118|      B07|         31|7145|               3|       3|            3|   true|         null|        1|         MEDIC|                         2|                     7|                 1|      Inner Richmond|(37.7768682293368...|020110330-M12|1.8166667|\n",
      "+----------+------+--------------+----------------+----------+----------+--------------------+--------------------+--------------------+----+-------+---------+-----------+----+----------------+--------+-------------+-------+-------------+---------+--------------+--------------------------+----------------------+------------------+--------------------+--------------------+-------------+---------+\n",
      "only showing top 20 rows\n",
      "\n"
     ]
    }
   ],
   "source": [
    "fireCalls_df = (spark\n",
    "                .read\n",
    "                .option('header', 'true')\n",
    "                .schema(schema)\n",
    "                .csv('/user/ranga_rao/learningSparkBook/sf-fire-calls.csv')\n",
    ")\n",
    "\n",
    "fireCalls_df.show()"
   ]
  },
  {
   "cell_type": "code",
   "execution_count": 9,
   "metadata": {},
   "outputs": [
    {
     "data": {
      "text/plain": [
       "175296"
      ]
     },
     "execution_count": 9,
     "metadata": {},
     "output_type": "execute_result"
    }
   ],
   "source": [
    "fireCalls_df.count()"
   ]
  },
  {
   "cell_type": "code",
   "execution_count": 10,
   "metadata": {},
   "outputs": [
    {
     "name": "stdout",
     "output_type": "stream",
     "text": [
      "root\n",
      " |-- CallNumber: integer (nullable = true)\n",
      " |-- UnitID: string (nullable = true)\n",
      " |-- IncidentNumber: integer (nullable = true)\n",
      " |-- CallType: string (nullable = true)\n",
      " |-- CallDate: string (nullable = true)\n",
      " |-- WatchDate: string (nullable = true)\n",
      " |-- CallFinalDisposition: string (nullable = true)\n",
      " |-- AvailableDtTm: string (nullable = true)\n",
      " |-- Address: string (nullable = true)\n",
      " |-- City: string (nullable = true)\n",
      " |-- Zipcode: integer (nullable = true)\n",
      " |-- Battalion: string (nullable = true)\n",
      " |-- StationArea: string (nullable = true)\n",
      " |-- Box: string (nullable = true)\n",
      " |-- OriginalPriority: string (nullable = true)\n",
      " |-- Priority: string (nullable = true)\n",
      " |-- FinalPriority: integer (nullable = true)\n",
      " |-- ALSUnit: boolean (nullable = true)\n",
      " |-- CallTypeGroup: string (nullable = true)\n",
      " |-- NumAlarms: integer (nullable = true)\n",
      " |-- UnitType: string (nullable = true)\n",
      " |-- UnitSequenceInCallDispatch: integer (nullable = true)\n",
      " |-- FirePreventionDistrict: string (nullable = true)\n",
      " |-- SupervisorDistrict: string (nullable = true)\n",
      " |-- Neighborhood: string (nullable = true)\n",
      " |-- Location: string (nullable = true)\n",
      " |-- RowID: string (nullable = true)\n",
      " |-- Delay: float (nullable = true)\n",
      "\n"
     ]
    }
   ],
   "source": [
    "fireCalls_df.printSchema()"
   ]
  },
  {
   "cell_type": "markdown",
   "metadata": {},
   "source": [
    "## How many distinct types of calls were made to the Fire Department?"
   ]
  },
  {
   "cell_type": "code",
   "execution_count": 11,
   "metadata": {},
   "outputs": [
    {
     "data": {
      "text/plain": [
       "30"
      ]
     },
     "execution_count": 11,
     "metadata": {},
     "output_type": "execute_result"
    }
   ],
   "source": [
    "(fireCalls_df\n",
    " .select(\"CallType\")\n",
    " .where(col(\"CallType\").isNotNull())\n",
    " .distinct()\n",
    " .count()\n",
    ")"
   ]
  },
  {
   "cell_type": "markdown",
   "metadata": {},
   "source": [
    "## What are distinct types of calls were made to the Fire Department?"
   ]
  },
  {
   "cell_type": "code",
   "execution_count": 28,
   "metadata": {},
   "outputs": [
    {
     "name": "stdout",
     "output_type": "stream",
     "text": [
      "+--------------------------------------------+\n",
      "|CallType                                    |\n",
      "+--------------------------------------------+\n",
      "|Elevator / Escalator Rescue                 |\n",
      "|Marine Fire                                 |\n",
      "|Aircraft Emergency                          |\n",
      "|Confined Space / Structure Collapse         |\n",
      "|Administrative                              |\n",
      "|Alarms                                      |\n",
      "|Odor (Strange / Unknown)                    |\n",
      "|Citizen Assist / Service Call               |\n",
      "|HazMat                                      |\n",
      "|Watercraft in Distress                      |\n",
      "|Explosion                                   |\n",
      "|Oil Spill                                   |\n",
      "|Vehicle Fire                                |\n",
      "|Suspicious Package                          |\n",
      "|Extrication / Entrapped (Machinery, Vehicle)|\n",
      "|Other                                       |\n",
      "|Outside Fire                                |\n",
      "|Traffic Collision                           |\n",
      "|Assist Police                               |\n",
      "|Gas Leak (Natural and LP Gases)             |\n",
      "|Water Rescue                                |\n",
      "|Electrical Hazard                           |\n",
      "|High Angle Rescue                           |\n",
      "|Structure Fire                              |\n",
      "|Industrial Accidents                        |\n",
      "|Medical Incident                            |\n",
      "|Mutual Aid / Assist Outside Agency          |\n",
      "|Fuel Spill                                  |\n",
      "|Smoke Investigation (Outside)               |\n",
      "|Train / Rail Incident                       |\n",
      "+--------------------------------------------+\n",
      "\n"
     ]
    }
   ],
   "source": [
    "(fireCalls_df\n",
    " .select(\"CallType\")\n",
    " .where(col(\"CallType\").isNotNull())\n",
    " .distinct()\n",
    ").show(30, False)"
   ]
  },
  {
   "cell_type": "markdown",
   "metadata": {},
   "source": [
    "## Find out all response or delayed times greater than 5 mins?"
   ]
  },
  {
   "cell_type": "code",
   "execution_count": 12,
   "metadata": {},
   "outputs": [
    {
     "name": "stdout",
     "output_type": "stream",
     "text": [
      "+---------+\n",
      "|    Delay|\n",
      "+---------+\n",
      "|     5.35|\n",
      "|     6.25|\n",
      "|      5.2|\n",
      "|      5.6|\n",
      "|     7.25|\n",
      "|11.916667|\n",
      "| 5.116667|\n",
      "| 8.633333|\n",
      "| 95.28333|\n",
      "|     5.45|\n",
      "|      7.6|\n",
      "| 6.133333|\n",
      "|5.1833334|\n",
      "|6.9166665|\n",
      "|      5.2|\n",
      "|     6.35|\n",
      "| 7.983333|\n",
      "|    13.55|\n",
      "|     5.15|\n",
      "|13.583333|\n",
      "+---------+\n",
      "only showing top 20 rows\n",
      "\n"
     ]
    }
   ],
   "source": [
    "(fireCalls_df\n",
    " .select(\"Delay\")\n",
    " .filter(col(\"Delay\") > 5)\n",
    ").withColumnRenamed(\"Delayed\", \"Response Delayed Time\").show()"
   ]
  },
  {
   "cell_type": "markdown",
   "metadata": {},
   "source": [
    "- ### Transform the string dates to Spark Timestamp data type so we can make some time-based queries later\n",
    "- ### Returns a transformed query\n",
    "- ### Cache the new DataFrame"
   ]
  },
  {
   "cell_type": "code",
   "execution_count": 13,
   "metadata": {},
   "outputs": [],
   "source": [
    "#CallDate, WatchDate, AvailableDtTm\n",
    "\n",
    "fireCalls_df = (fireCalls_df\n",
    "                .withColumn(\"CallDate_ts\", to_timestamp(col(\"CallDate\"), \"MM/dd/yyyy\"))\n",
    "                .withColumn(\"WatchDate_ts\", to_timestamp(col(\"WatchDate\"), \"MM/dd/yyyy\"))\n",
    "                .withColumn(\"AvailableDtTm_ts\", to_timestamp(col(\"AvailableDtTm\"), \"MM/dd/yyyy hh:mm:ss a\"))\n",
    "                .drop(\"CallDate\", \"WatchDate\", \"AvailableDtTm\")\n",
    "               )"
   ]
  },
  {
   "cell_type": "code",
   "execution_count": 14,
   "metadata": {},
   "outputs": [
    {
     "name": "stdout",
     "output_type": "stream",
     "text": [
      "+-------------------+-------------------+-------------------+\n",
      "|CallDate_ts        |WatchDate_ts       |AvailableDtTm_ts   |\n",
      "+-------------------+-------------------+-------------------+\n",
      "|2002-01-11 00:00:00|2002-01-10 00:00:00|2002-01-11 01:51:44|\n",
      "|2002-01-11 00:00:00|2002-01-10 00:00:00|2002-01-11 03:01:18|\n",
      "|2002-01-11 00:00:00|2002-01-10 00:00:00|2002-01-11 02:39:50|\n",
      "|2002-01-11 00:00:00|2002-01-10 00:00:00|2002-01-11 04:16:46|\n",
      "|2002-01-11 00:00:00|2002-01-10 00:00:00|2002-01-11 06:01:58|\n",
      "+-------------------+-------------------+-------------------+\n",
      "only showing top 5 rows\n",
      "\n"
     ]
    }
   ],
   "source": [
    "(fireCalls_df\n",
    " .select(\"CallDate_ts\", \"WatchDate_ts\", \"AvailableDtTm_ts\")\n",
    " .show(5, False))"
   ]
  },
  {
   "cell_type": "code",
   "execution_count": 15,
   "metadata": {},
   "outputs": [
    {
     "data": {
      "text/plain": [
       "DataFrame[CallNumber: int, UnitID: string, IncidentNumber: int, CallType: string, CallFinalDisposition: string, Address: string, City: string, Zipcode: int, Battalion: string, StationArea: string, Box: string, OriginalPriority: string, Priority: string, FinalPriority: int, ALSUnit: boolean, CallTypeGroup: string, NumAlarms: int, UnitType: string, UnitSequenceInCallDispatch: int, FirePreventionDistrict: string, SupervisorDistrict: string, Neighborhood: string, Location: string, RowID: string, Delay: float, CallDate_ts: timestamp, WatchDate_ts: timestamp, AvailableDtTm_ts: timestamp]"
      ]
     },
     "execution_count": 15,
     "metadata": {},
     "output_type": "execute_result"
    }
   ],
   "source": [
    "fireCalls_df.cache()"
   ]
  },
  {
   "cell_type": "code",
   "execution_count": 16,
   "metadata": {},
   "outputs": [
    {
     "name": "stdout",
     "output_type": "stream",
     "text": [
      "root\n",
      " |-- CallNumber: integer (nullable = true)\n",
      " |-- UnitID: string (nullable = true)\n",
      " |-- IncidentNumber: integer (nullable = true)\n",
      " |-- CallType: string (nullable = true)\n",
      " |-- CallFinalDisposition: string (nullable = true)\n",
      " |-- Address: string (nullable = true)\n",
      " |-- City: string (nullable = true)\n",
      " |-- Zipcode: integer (nullable = true)\n",
      " |-- Battalion: string (nullable = true)\n",
      " |-- StationArea: string (nullable = true)\n",
      " |-- Box: string (nullable = true)\n",
      " |-- OriginalPriority: string (nullable = true)\n",
      " |-- Priority: string (nullable = true)\n",
      " |-- FinalPriority: integer (nullable = true)\n",
      " |-- ALSUnit: boolean (nullable = true)\n",
      " |-- CallTypeGroup: string (nullable = true)\n",
      " |-- NumAlarms: integer (nullable = true)\n",
      " |-- UnitType: string (nullable = true)\n",
      " |-- UnitSequenceInCallDispatch: integer (nullable = true)\n",
      " |-- FirePreventionDistrict: string (nullable = true)\n",
      " |-- SupervisorDistrict: string (nullable = true)\n",
      " |-- Neighborhood: string (nullable = true)\n",
      " |-- Location: string (nullable = true)\n",
      " |-- RowID: string (nullable = true)\n",
      " |-- Delay: float (nullable = true)\n",
      " |-- CallDate_ts: timestamp (nullable = true)\n",
      " |-- WatchDate_ts: timestamp (nullable = true)\n",
      " |-- AvailableDtTm_ts: timestamp (nullable = true)\n",
      "\n"
     ]
    }
   ],
   "source": [
    "fireCalls_df.printSchema()"
   ]
  },
  {
   "cell_type": "markdown",
   "metadata": {},
   "source": [
    "## What were the most common call types?"
   ]
  },
  {
   "cell_type": "code",
   "execution_count": 17,
   "metadata": {},
   "outputs": [
    {
     "name": "stdout",
     "output_type": "stream",
     "text": [
      "+--------------------------------------------+------+\n",
      "|CallType                                    |count |\n",
      "+--------------------------------------------+------+\n",
      "|Medical Incident                            |113794|\n",
      "|Structure Fire                              |23319 |\n",
      "|Alarms                                      |19406 |\n",
      "|Traffic Collision                           |7013  |\n",
      "|Citizen Assist / Service Call               |2524  |\n",
      "|Other                                       |2166  |\n",
      "|Outside Fire                                |2094  |\n",
      "|Vehicle Fire                                |854   |\n",
      "|Gas Leak (Natural and LP Gases)             |764   |\n",
      "|Water Rescue                                |755   |\n",
      "|Odor (Strange / Unknown)                    |490   |\n",
      "|Electrical Hazard                           |482   |\n",
      "|Elevator / Escalator Rescue                 |453   |\n",
      "|Smoke Investigation (Outside)               |391   |\n",
      "|Fuel Spill                                  |193   |\n",
      "|HazMat                                      |124   |\n",
      "|Industrial Accidents                        |94    |\n",
      "|Explosion                                   |89    |\n",
      "|Train / Rail Incident                       |57    |\n",
      "|Aircraft Emergency                          |36    |\n",
      "|Assist Police                               |35    |\n",
      "|High Angle Rescue                           |32    |\n",
      "|Watercraft in Distress                      |28    |\n",
      "|Extrication / Entrapped (Machinery, Vehicle)|28    |\n",
      "|Oil Spill                                   |21    |\n",
      "|Suspicious Package                          |15    |\n",
      "|Marine Fire                                 |14    |\n",
      "|Confined Space / Structure Collapse         |13    |\n",
      "|Mutual Aid / Assist Outside Agency          |9     |\n",
      "|Administrative                              |3     |\n",
      "+--------------------------------------------+------+\n",
      "\n"
     ]
    }
   ],
   "source": [
    "(fireCalls_df\n",
    " .select(\"CallType\")\n",
    " .groupBy(\"CallType\")\n",
    " .count()\n",
    " .orderBy(\"count\", ascending = False)\n",
    ").show(30, False)"
   ]
  },
  {
   "cell_type": "markdown",
   "metadata": {},
   "source": [
    "## What zip codes accounted for most common calls?"
   ]
  },
  {
   "cell_type": "code",
   "execution_count": 18,
   "metadata": {},
   "outputs": [
    {
     "name": "stdout",
     "output_type": "stream",
     "text": [
      "+-----------------+-------+-----+\n",
      "|CallType         |Zipcode|count|\n",
      "+-----------------+-------+-----+\n",
      "|Medical Incident |94102  |16130|\n",
      "|Medical Incident |94103  |14775|\n",
      "|Medical Incident |94110  |9995 |\n",
      "|Medical Incident |94109  |9479 |\n",
      "|Medical Incident |94124  |5885 |\n",
      "|Medical Incident |94112  |5630 |\n",
      "|Medical Incident |94115  |4785 |\n",
      "|Medical Incident |94122  |4323 |\n",
      "|Medical Incident |94107  |4284 |\n",
      "|Medical Incident |94133  |3977 |\n",
      "|Medical Incident |94117  |3522 |\n",
      "|Medical Incident |94134  |3437 |\n",
      "|Medical Incident |94114  |3225 |\n",
      "|Medical Incident |94118  |3104 |\n",
      "|Medical Incident |94121  |2953 |\n",
      "|Medical Incident |94116  |2738 |\n",
      "|Medical Incident |94132  |2594 |\n",
      "|Structure Fire   |94110  |2267 |\n",
      "|Medical Incident |94105  |2258 |\n",
      "|Structure Fire   |94102  |2229 |\n",
      "|Structure Fire   |94103  |2221 |\n",
      "|Alarms           |94103  |2168 |\n",
      "|Medical Incident |94108  |2162 |\n",
      "|Structure Fire   |94109  |2160 |\n",
      "|Alarms           |94102  |2140 |\n",
      "|Medical Incident |94123  |1940 |\n",
      "|Medical Incident |94131  |1853 |\n",
      "|Alarms           |94109  |1831 |\n",
      "|Structure Fire   |94124  |1590 |\n",
      "|Medical Incident |94111  |1589 |\n",
      "|Structure Fire   |94112  |1432 |\n",
      "|Alarms           |94115  |1358 |\n",
      "|Medical Incident |94127  |1206 |\n",
      "|Structure Fire   |94115  |1023 |\n",
      "|Alarms           |94105  |1015 |\n",
      "|Structure Fire   |94117  |975  |\n",
      "|Alarms           |94110  |974  |\n",
      "|Alarms           |94108  |913  |\n",
      "|Structure Fire   |94107  |912  |\n",
      "|Traffic Collision|94103  |900  |\n",
      "|Alarms           |94107  |887  |\n",
      "|Structure Fire   |94114  |864  |\n",
      "|Alarms           |94133  |822  |\n",
      "|Structure Fire   |94133  |807  |\n",
      "|Structure Fire   |94122  |727  |\n",
      "|Structure Fire   |94118  |703  |\n",
      "|Structure Fire   |94134  |702  |\n",
      "|Structure Fire   |94123  |672  |\n",
      "|Alarms           |94117  |664  |\n",
      "|Traffic Collision|94110  |652  |\n",
      "+-----------------+-------+-----+\n",
      "only showing top 50 rows\n",
      "\n"
     ]
    }
   ],
   "source": [
    "(fireCalls_df\n",
    " .select(\"CallType\", \"Zipcode\")\n",
    " .filter(col(\"CallType\").isNotNull())\n",
    " .groupBy(\"CallType\", \"Zipcode\")\n",
    " .count()\n",
    " .orderBy(\"count\", ascending = False)\n",
    ").show(50, False)"
   ]
  },
  {
   "cell_type": "markdown",
   "metadata": {},
   "source": [
    "## What San Francisco neighborhoods are in the zip codes 94102 and 94103"
   ]
  },
  {
   "cell_type": "code",
   "execution_count": 19,
   "metadata": {},
   "outputs": [
    {
     "name": "stdout",
     "output_type": "stream",
     "text": [
      "+-------+------------------------------+\n",
      "|Zipcode|Neighborhood                  |\n",
      "+-------+------------------------------+\n",
      "|94102  |Hayes Valley                  |\n",
      "|94102  |Western Addition              |\n",
      "|94102  |Tenderloin                    |\n",
      "|94102  |Nob Hill                      |\n",
      "|94102  |South of Market               |\n",
      "|94102  |Financial District/South Beach|\n",
      "|94103  |Financial District/South Beach|\n",
      "|94103  |Hayes Valley                  |\n",
      "|94103  |Mission                       |\n",
      "|94103  |Tenderloin                    |\n",
      "|94103  |South of Market               |\n",
      "|94103  |Mission Bay                   |\n",
      "|94103  |Potrero Hill                  |\n",
      "|94103  |Castro/Upper Market           |\n",
      "+-------+------------------------------+\n",
      "\n"
     ]
    }
   ],
   "source": [
    "(fireCalls_df\n",
    " .select('Zipcode', 'Neighborhood')\n",
    " .filter(col(\"Zipcode\").isin([94102, 94103]))\n",
    " .distinct()\n",
    " .orderBy(\"Zipcode\")\n",
    ").show(50, False)"
   ]
  },
  {
   "cell_type": "markdown",
   "metadata": {},
   "source": [
    "## What was the sum of all calls, average, min and max of the response times for calls?"
   ]
  },
  {
   "cell_type": "code",
   "execution_count": 21,
   "metadata": {},
   "outputs": [
    {
     "name": "stdout",
     "output_type": "stream",
     "text": [
      "+--------------+-----------------+-----------+----------+\n",
      "|sum(NumAlarms)|       avg(Delay)| min(Delay)|max(Delay)|\n",
      "+--------------+-----------------+-----------+----------+\n",
      "|        176170|3.892364154521585|0.016666668|   1844.55|\n",
      "+--------------+-----------------+-----------+----------+\n",
      "\n"
     ]
    }
   ],
   "source": [
    "(fireCalls_df\n",
    " .select(sum('NumAlarms'), avg(\"Delay\"), min(\"Delay\"), max(\"Delay\"))\n",
    ").show()"
   ]
  },
  {
   "cell_type": "markdown",
   "metadata": {},
   "source": [
    "## How many distinct years of data is in the CSV file?"
   ]
  },
  {
   "cell_type": "code",
   "execution_count": 23,
   "metadata": {},
   "outputs": [
    {
     "data": {
      "text/plain": [
       "19"
      ]
     },
     "execution_count": 23,
     "metadata": {},
     "output_type": "execute_result"
    }
   ],
   "source": [
    "(fireCalls_df\n",
    " .select(year('CallDate_ts'))\n",
    " .distinct()\n",
    " .count()\n",
    ")"
   ]
  },
  {
   "cell_type": "markdown",
   "metadata": {},
   "source": [
    "## What week of the year in 2018 had the most fire calls?"
   ]
  },
  {
   "cell_type": "code",
   "execution_count": 29,
   "metadata": {},
   "outputs": [
    {
     "name": "stdout",
     "output_type": "stream",
     "text": [
      "+-----------+-----+\n",
      "|WweekNumber|count|\n",
      "+-----------+-----+\n",
      "|         22|  259|\n",
      "|         40|  255|\n",
      "|         43|  250|\n",
      "|         25|  249|\n",
      "|          1|  246|\n",
      "|         44|  244|\n",
      "|         32|  243|\n",
      "|         13|  243|\n",
      "|         11|  240|\n",
      "|          5|  236|\n",
      "|         18|  236|\n",
      "|         23|  235|\n",
      "|         31|  234|\n",
      "|         42|  234|\n",
      "|          2|  234|\n",
      "|         19|  233|\n",
      "|          8|  232|\n",
      "|         34|  232|\n",
      "|         10|  232|\n",
      "|         21|  231|\n",
      "|         28|  231|\n",
      "|          7|  228|\n",
      "|          9|  228|\n",
      "|         16|  228|\n",
      "|         38|  226|\n",
      "|         20|  225|\n",
      "|         33|  225|\n",
      "|         14|  225|\n",
      "|          6|  225|\n",
      "|         39|  224|\n",
      "|          3|  224|\n",
      "|         27|  223|\n",
      "|         26|  223|\n",
      "|         29|  223|\n",
      "|         37|  223|\n",
      "|         15|  222|\n",
      "|         35|  221|\n",
      "|         12|  221|\n",
      "|         41|  220|\n",
      "|         30|  203|\n",
      "|         17|  203|\n",
      "|         36|  203|\n",
      "|          4|  202|\n",
      "|         24|  198|\n",
      "|         45|   64|\n",
      "+-----------+-----+\n",
      "\n"
     ]
    }
   ],
   "source": [
    "(fireCalls_df\n",
    " .filter(year('CallDate_ts') == 2018)\n",
    " .groupBy(weekofyear('CallDate_ts'))\n",
    " .count()\n",
    " .orderBy('count', ascending = False)\n",
    " .select(col('weekofyear(CallDate_ts)').alias('WweekNumber'), 'count')\n",
    ").show(52)"
   ]
  },
  {
   "cell_type": "markdown",
   "metadata": {},
   "source": [
    "## What neighborhoods in San Francisco had the worst response time in 2018?"
   ]
  },
  {
   "cell_type": "code",
   "execution_count": 37,
   "metadata": {},
   "outputs": [
    {
     "name": "stdout",
     "output_type": "stream",
     "text": [
      "+------------------------------+---------+\n",
      "|Neighborhood                  |Delay    |\n",
      "+------------------------------+---------+\n",
      "|Chinatown                     |491.26666|\n",
      "|Financial District/South Beach|406.63333|\n",
      "|Tenderloin                    |340.48334|\n",
      "|Haight Ashbury                |175.86667|\n",
      "|Bayview Hunters Point         |155.8    |\n",
      "|Financial District/South Beach|135.51666|\n",
      "|Pacific Heights               |129.01666|\n",
      "|Potrero Hill                  |109.8    |\n",
      "|Inner Sunset                  |106.13333|\n",
      "|South of Market               |94.71667 |\n",
      "+------------------------------+---------+\n",
      "only showing top 10 rows\n",
      "\n"
     ]
    }
   ],
   "source": [
    "(fireCalls_df\n",
    " .select('Neighborhood','Delay')\n",
    " .filter(year('CallDate_ts') == 2018)\n",
    " .orderBy('Delay', ascending = False)\n",
    ").show(10, False)"
   ]
  },
  {
   "cell_type": "markdown",
   "metadata": {},
   "source": [
    "## How can we use Parquet files to store data and read it back?"
   ]
  },
  {
   "cell_type": "code",
   "execution_count": 38,
   "metadata": {},
   "outputs": [],
   "source": [
    "(fireCalls_df\n",
    " .write\n",
    " .mode(\"overwrite\")\n",
    " .parquet(\"/user/ranga_rao/learningSparkBook/Solutions/\")\n",
    ")"
   ]
  },
  {
   "cell_type": "code",
   "execution_count": 41,
   "metadata": {},
   "outputs": [
    {
     "name": "stdout",
     "output_type": "stream",
     "text": [
      "+----------+------+--------------+----------------+--------------------+---------------------------+----+-------+---------+-----------+----+----------------+--------+-------------+-------+-------------+---------+--------+--------------------------+----------------------+------------------+------------------------------+-------------------------------------+-------------+---------+-------------------+-------------------+-------------------+\n",
      "|CallNumber|UnitID|IncidentNumber|CallType        |CallFinalDisposition|Address                    |City|Zipcode|Battalion|StationArea|Box |OriginalPriority|Priority|FinalPriority|ALSUnit|CallTypeGroup|NumAlarms|UnitType|UnitSequenceInCallDispatch|FirePreventionDistrict|SupervisorDistrict|Neighborhood                  |Location                             |RowID        |Delay    |CallDate_ts        |WatchDate_ts       |AvailableDtTm_ts   |\n",
      "+----------+------+--------------+----------------+--------------------+---------------------------+----+-------+---------+-----------+----+----------------+--------+-------------+-------+-------------+---------+--------+--------------------------+----------------------+------------------+------------------------------+-------------------------------------+-------------+---------+-------------------+-------------------+-------------------+\n",
      "|20110016  |T13   |2003235       |Structure Fire  |Other               |2000 Block of CALIFORNIA ST|SF  |94109  |B04      |38         |3362|3               |3       |3            |false  |null         |1        |TRUCK   |2                         |4                     |5                 |Pacific Heights               |(37.7895840679362, -122.428071912459)|020110016-T13|2.95     |2002-01-11 00:00:00|2002-01-10 00:00:00|2002-01-11 01:51:44|\n",
      "|20110022  |M17   |2003241       |Medical Incident|Other               |0 Block of SILVERVIEW DR   |SF  |94124  |B10      |42         |6495|3               |3       |3            |true   |null         |1        |MEDIC   |1                         |10                    |10                |Bayview Hunters Point         |(37.7337623673897, -122.396113802632)|020110022-M17|4.7      |2002-01-11 00:00:00|2002-01-10 00:00:00|2002-01-11 03:01:18|\n",
      "|20110023  |M41   |2003242       |Medical Incident|Other               |MARKET ST/MCALLISTER ST    |SF  |94102  |B03      |01         |1455|3               |3       |3            |true   |null         |1        |MEDIC   |2                         |3                     |6                 |Tenderloin                    |(37.7811772186856, -122.411699931232)|020110023-M41|2.4333334|2002-01-11 00:00:00|2002-01-10 00:00:00|2002-01-11 02:39:50|\n",
      "|20110032  |E11   |2003250       |Vehicle Fire    |Other               |APPLETON AV/MISSION ST     |SF  |94110  |B06      |32         |5626|3               |3       |3            |false  |null         |1        |ENGINE  |1                         |6                     |9                 |Bernal Heights                |(37.7388432849018, -122.423948785199)|020110032-E11|1.5      |2002-01-11 00:00:00|2002-01-10 00:00:00|2002-01-11 04:16:46|\n",
      "|20110043  |B04   |2003259       |Alarms          |Other               |1400 Block of SUTTER ST    |SF  |94109  |B04      |03         |3223|3               |3       |3            |false  |null         |1        |CHIEF   |2                         |4                     |2                 |Western Addition              |(37.7872890372638, -122.424236212664)|020110043-B04|3.4833333|2002-01-11 00:00:00|2002-01-10 00:00:00|2002-01-11 06:01:58|\n",
      "|20110072  |T08   |2003279       |Structure Fire  |Other               |BEALE ST/FOLSOM ST         |SF  |94105  |B03      |35         |2122|3               |3       |3            |false  |null         |1        |TRUCK   |2                         |3                     |6                 |Financial District/South Beach|(37.7886866619654, -122.392722833778)|020110072-T08|1.75     |2002-01-11 00:00:00|2002-01-11 00:00:00|2002-01-11 08:03:26|\n",
      "|20110125  |E33   |2003301       |Alarms          |Other               |0 Block of FARALLONES ST   |SF  |94112  |B09      |33         |8324|3               |3       |3            |false  |null         |1        |ENGINE  |2                         |9                     |11                |Oceanview/Merced/Ingleside    |(37.7140353531157, -122.454117149916)|020110125-E33|2.7166667|2002-01-11 00:00:00|2002-01-11 00:00:00|2002-01-11 09:46:44|\n",
      "|20110130  |E36   |2003304       |Alarms          |Other               |600 Block of POLK ST       |SF  |94102  |B02      |03         |3114|3               |3       |3            |false  |null         |1        |ENGINE  |1                         |2                     |6                 |Tenderloin                    |(37.7826266328595, -122.41915582123) |020110130-E36|1.7833333|2002-01-11 00:00:00|2002-01-11 00:00:00|2002-01-11 09:58:53|\n",
      "|20110197  |E05   |2003343       |Medical Incident|Other               |1500 Block of WEBSTER ST   |SF  |94115  |B04      |05         |3513|3               |3       |3            |false  |null         |1        |ENGINE  |1                         |4                     |5                 |Japantown                     |(37.784958590666, -122.431435274503) |020110197-E05|1.5166667|2002-01-11 00:00:00|2002-01-11 00:00:00|2002-01-11 12:06:57|\n",
      "|20110215  |E06   |2003348       |Medical Incident|Other               |DIAMOND ST/MARKET ST       |SF  |94114  |B05      |06         |5415|3               |3       |3            |false  |null         |1        |ENGINE  |1                         |5                     |8                 |Castro/Upper Market           |(37.7618954753708, -122.437298717721)|020110215-E06|2.7666667|2002-01-11 00:00:00|2002-01-11 00:00:00|2002-01-11 13:08:40|\n",
      "+----------+------+--------------+----------------+--------------------+---------------------------+----+-------+---------+-----------+----+----------------+--------+-------------+-------+-------------+---------+--------+--------------------------+----------------------+------------------+------------------------------+-------------------------------------+-------------+---------+-------------------+-------------------+-------------------+\n",
      "only showing top 10 rows\n",
      "\n"
     ]
    }
   ],
   "source": [
    "(spark\n",
    " .read\n",
    " .parquet(\"/user/ranga_rao/learningSparkBook/Solutions/\")\n",
    ").show(10, False)"
   ]
  }
 ],
 "metadata": {
  "kernelspec": {
   "display_name": "Pyspark 2",
   "language": "python",
   "name": "pyspark2"
  },
  "language_info": {
   "codemirror_mode": {
    "name": "ipython",
    "version": 3
   },
   "file_extension": ".py",
   "mimetype": "text/x-python",
   "name": "python",
   "nbconvert_exporter": "python",
   "pygments_lexer": "ipython3",
   "version": "3.6.8"
  }
 },
 "nbformat": 4,
 "nbformat_minor": 4
}
