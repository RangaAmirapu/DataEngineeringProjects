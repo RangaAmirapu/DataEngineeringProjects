{
 "cells": [
  {
   "cell_type": "markdown",
   "metadata": {},
   "source": [
    "# Exercise - Get monthly crime count by type\n",
    "\n",
    "- Data set URL - https://data.cityofchicago.org/Public-Safety/Crimes-2001-to-Present/ijzp-q8t2\n",
    "- Data is available in HDFS file system under /public/crime/csv\n",
    "- You can check properties of files using hadoop fs -ls -h /public/crime/csv\n",
    "- Structure of data (ID,Case Number,Date,Block,IUCR,Primary Type,Description,Location Description,Arrest,Domestic,Beat,District,Ward,Community Area,FBI Code,X Coordinate,Y Coordinate,Year,Updated On,Latitude,Longitude,Location)\n",
    "- File format - text file\n",
    "- Delimiter - “,”\n",
    "- Get monthly count of primary crime type, sorted by month in ascending and number of crimes per type in descending order\n",
    "- Store the result in HDFS path /user/YOUR_USER_ID/solutions/solution01/crimes_by_type_by_month\n",
    "- Output File Format: TEXT\n",
    "- Output Columns: Month in YYYYMM format, crime count, crime type\n",
    "- Output Delimiter: \\t (tab delimited)\n",
    "- Output Compression: gzip\n",
    "- Validate the results"
   ]
  },
  {
   "cell_type": "code",
   "execution_count": 3,
   "metadata": {},
   "outputs": [
    {
     "name": "stdout",
     "output_type": "stream",
     "text": [
      "Found 2 items\n",
      "drwxr-xr-x   - hdfs hdfs          0 2017-08-08 04:34 /public/crime/csv\n",
      "drwxr-xr-x   - hdfs hdfs          0 2017-08-08 04:36 /public/crime/json\n"
     ]
    }
   ],
   "source": [
    "%%bash\n",
    "\n",
    "hdfs dfs -ls /public/crime/"
   ]
  },
  {
   "cell_type": "code",
   "execution_count": 4,
   "metadata": {},
   "outputs": [
    {
     "name": "stdout",
     "output_type": "stream",
     "text": [
      "Found 1 items\n",
      "-rw-r--r--   3 hdfs hdfs      1.4 G 2017-08-08 04:34 /public/crime/csv/crime_data.csv\n"
     ]
    }
   ],
   "source": [
    "%%bash\n",
    "\n",
    "hdfs dfs -ls -h /public/crime/csv"
   ]
  },
  {
   "cell_type": "code",
   "execution_count": 5,
   "metadata": {},
   "outputs": [
    {
     "name": "stdout",
     "output_type": "stream",
     "text": [
      "ID,Case Number,Date,Block,IUCR,Primary Type,Description,Location Description,Arrest,Domestic,Beat,District,Ward,Community Area,FBI Code,X Coordinate,Y Coordinate,Year,Updated On,Latitude,Longitude,Location\n",
      "5679862,HN487108,07/24/2007 10:11:00 PM,054XX S ABERDEEN ST,1320,CRIMINAL DAMAGE,TO VEHICLE,STREET,false,false,0934,009,16,61,14,1169912,1868555,2007,04/15/2016 08:55:02 AM,41.794811309,-87.652466989,\"(41.794811309, -87.652466989)\"\n",
      "5679863,HN488302,07/24/2007 01:00:00 PM,082XX S TALMAN AVE,0460,BATTERY,SIMPLE,STREET,false,false,0835,008,18,70,08B,1160134,1850078,2007,04/15/2016 08:55:02 AM,41.744314668,-87.688830696,\"(41.744314668, -87.688830696)\"\n",
      "5679864,HN487195,07/24/2007 02:20:00 PM,034XX N MILWAUKEE AVE,0486,BATTERY,DOMESTIC BATTERY SIMPLE,RESIDENCE,false,true,1731,017,30,16,08B,1148204,1922490,2007,04/15/2016 08:55:02 AM,41.943259605,-87.730682304,\"(41.943259605, -87.730682304)\"\n",
      "5679865,HN484199,07/21/2007 12:30:00 PM,035XX W BELMONT AVE,0820,THEFT,$500 AND UNDER,STREET,false,false,1412,014,35,21,06,1152064,1921048,2007,04/15/2016 08:55:02 AM,41.9392273,-87.716532899,\"(41.9392273, -87.716532899)\"\n",
      "5679866,HN489706,07/26/2007 03:00:00 AM,048XX W ARGYLE ST,1305,CRIMINAL DAMAGE,CRIMINAL DEFACEMENT,RESIDENCE,false,false,1623,016,45,12,14,1143169,1932807,2007,04/15/2016 08:55:02 AM,41.971665985,-87.74893007,\"(41.971665985, -87.74893007)\"\n",
      "5679868,HN479171,07/20/2007 11:40:00 PM,023XX S CALIFORNIA AVE,1320,CRIMINAL DAMAGE,TO VEHICLE,STREET,false,false,1033,010,12,30,14,1158058,1888522,2007,04/15/2016 08:55:02 AM,41.849852628,-87.695392076,\"(41.849852628, -87.695392076)\"\n",
      "5679870,HN487786,07/25/2007 10:20:00 AM,001XX E 71ST ST,0890,THEFT,FROM BUILDING,GROCERY FOOD STORE,false,false,0323,003,6,69,06,1178576,1857978,2007,04/15/2016 08:55:02 AM,41.765594255,-87.62101766,\"(41.765594255, -87.62101766)\"\n",
      "5679872,HN489597,07/26/2007 03:00:00 AM,024XX N FRANCISCO AVE,0810,THEFT,OVER $500,APARTMENT,false,false,1414,014,35,22,06,1156634,1915948,2007,04/15/2016 08:55:02 AM,41.925141071,-87.699875328,\"(41.925141071, -87.699875328)\"\n",
      "5679873,HN488796,07/25/2007 06:50:00 PM,098XX S PARNELL AVE,143A,WEAPONS VIOLATION,UNLAWFUL POSS OF HANDGUN,PARK PROPERTY,true,false,2223,022,21,73,15,1174363,1839821,2007,04/15/2016 08:55:02 AM,41.715863801,-87.636998103,\"(41.715863801, -87.636998103)\"\n"
     ]
    },
    {
     "name": "stderr",
     "output_type": "stream",
     "text": [
      "cat: Unable to write to output stream.\n"
     ]
    }
   ],
   "source": [
    "%%bash\n",
    "\n",
    "hdfs dfs -cat /public/crime/csv/crime_data.csv | head"
   ]
  },
  {
   "cell_type": "code",
   "execution_count": 2,
   "metadata": {},
   "outputs": [],
   "source": [
    "from pyspark.sql import SparkSession\n",
    "from pyspark.sql.functions import *"
   ]
  },
  {
   "cell_type": "code",
   "execution_count": 3,
   "metadata": {},
   "outputs": [],
   "source": [
    "spark = (SparkSession\n",
    "         .builder\n",
    "         .config('spark.ui.port', '0')\n",
    "         .appName('Exercise1-GetMonthlyCrimeCountByType')\n",
    "         .master('yarn')\n",
    "         .getOrCreate()\n",
    "        )"
   ]
  },
  {
   "cell_type": "code",
   "execution_count": 4,
   "metadata": {},
   "outputs": [
    {
     "data": {
      "text/html": [
       "\n",
       "            <div>\n",
       "                <p><b>SparkSession - hive</b></p>\n",
       "                \n",
       "        <div>\n",
       "            <p><b>SparkContext</b></p>\n",
       "\n",
       "            <p><a href=\"http://gw03.itversity.com:38554\">Spark UI</a></p>\n",
       "\n",
       "            <dl>\n",
       "              <dt>Version</dt>\n",
       "                <dd><code>v2.3.0.2.6.5.0-292</code></dd>\n",
       "              <dt>Master</dt>\n",
       "                <dd><code>yarn</code></dd>\n",
       "              <dt>AppName</dt>\n",
       "                <dd><code>Exercise1-GetMonthlyCrimeCountByType</code></dd>\n",
       "            </dl>\n",
       "        </div>\n",
       "        \n",
       "            </div>\n",
       "        "
      ],
      "text/plain": [
       "<pyspark.sql.session.SparkSession at 0x7fea86e57cf8>"
      ]
     },
     "execution_count": 4,
     "metadata": {},
     "output_type": "execute_result"
    }
   ],
   "source": [
    "spark"
   ]
  },
  {
   "cell_type": "code",
   "execution_count": 46,
   "metadata": {},
   "outputs": [
    {
     "name": "stdout",
     "output_type": "stream",
     "text": [
      "+------+-----------------+\n",
      "| Month|     Primary Type|\n",
      "+------+-----------------+\n",
      "|200707|  CRIMINAL DAMAGE|\n",
      "|200707|          BATTERY|\n",
      "|200707|          BATTERY|\n",
      "|200707|            THEFT|\n",
      "|200707|  CRIMINAL DAMAGE|\n",
      "|200707|  CRIMINAL DAMAGE|\n",
      "|200707|            THEFT|\n",
      "|200707|            THEFT|\n",
      "|200707|WEAPONS VIOLATION|\n",
      "|200707|         BURGLARY|\n",
      "|200707|            THEFT|\n",
      "|200707|          BATTERY|\n",
      "|200707|            THEFT|\n",
      "|200704|    OTHER OFFENSE|\n",
      "|200707|            THEFT|\n",
      "|200707|            THEFT|\n",
      "|200707|          BATTERY|\n",
      "|200707|        NARCOTICS|\n",
      "|200707|          BATTERY|\n",
      "|200707|    OTHER OFFENSE|\n",
      "+------+-----------------+\n",
      "only showing top 20 rows\n",
      "\n"
     ]
    }
   ],
   "source": [
    "crime_df = (spark\n",
    "            .read\n",
    "            .option(\"header\", \"true\")\n",
    "            .option(\"inferSchema\", \"true\")\n",
    "            .csv(\"/public/crime/csv/crime_data.csv\")\n",
    ").withColumn(\"Month\", concat(substring('Date',7,4),substring('Date',1,2)).cast(\"int\")).select(\"Month\", \"Primary Type\")\n",
    "\n",
    "crime_df.show()"
   ]
  },
  {
   "cell_type": "code",
   "execution_count": 47,
   "metadata": {},
   "outputs": [
    {
     "name": "stdout",
     "output_type": "stream",
     "text": [
      "+------+-----------+--------------------+\n",
      "| Month|crime count|          crime type|\n",
      "+------+-----------+--------------------+\n",
      "|200101|       7866|               THEFT|\n",
      "|200101|       6525|             BATTERY|\n",
      "|200101|       4714|           NARCOTICS|\n",
      "|200101|       3966|     CRIMINAL DAMAGE|\n",
      "|200101|       2799|       OTHER OFFENSE|\n",
      "|200101|       2123|             ASSAULT|\n",
      "|200101|       2095| MOTOR VEHICLE THEFT|\n",
      "|200101|       1934|            BURGLARY|\n",
      "|200101|       1396|             ROBBERY|\n",
      "|200101|       1387|  DECEPTIVE PRACTICE|\n",
      "|200101|       1191|   CRIMINAL TRESPASS|\n",
      "|200101|        563|        PROSTITUTION|\n",
      "|200101|        337|   WEAPONS VIOLATION|\n",
      "|200101|        239|OFFENSE INVOLVING...|\n",
      "|200101|        218|         SEX OFFENSE|\n",
      "|200101|        162| CRIM SEXUAL ASSAULT|\n",
      "|200101|        161|PUBLIC PEACE VIOL...|\n",
      "|200101|        101|LIQUOR LAW VIOLATION|\n",
      "|200101|         75|          KIDNAPPING|\n",
      "|200101|         67|               ARSON|\n",
      "+------+-----------+--------------------+\n",
      "only showing top 20 rows\n",
      "\n"
     ]
    }
   ],
   "source": [
    "crimes_grouped_df = (crime_df\n",
    "                     .groupBy(\"Primary Type\", \"Month\")\n",
    "                     .count()\n",
    "                     .orderBy([\"Month\", \"count\"],ascending=[1,0])\n",
    "                     .select(col(\"Month\"), col(\"count\").alias(\"crime count\"), col(\"Primary Type\").alias(\"crime type\"))\n",
    "                    )\n",
    "\n",
    "crimes_grouped_df.show()"
   ]
  },
  {
   "cell_type": "code",
   "execution_count": 52,
   "metadata": {},
   "outputs": [],
   "source": [
    "(crimes_grouped_df\n",
    " .rdd\n",
    " .map(lambda x: (str(x[0])+\"\\t\"+str(x[1])+\"\\t\"+str(x[2])))\n",
    " .coalesce(1)\n",
    " .saveAsTextFile(\"/user/ranga_rao/solutions/solution01/crimes_by_type_by_month\",\"org.apache.hadoop.io.compress.GzipCodec\")\n",
    ")"
   ]
  },
  {
   "cell_type": "code",
   "execution_count": 6,
   "metadata": {},
   "outputs": [
    {
     "name": "stdout",
     "output_type": "stream",
     "text": [
      "+------+--------------------+----+\n",
      "|   _c0|                 _c1| _c2|\n",
      "+------+--------------------+----+\n",
      "|200101|               THEFT|7866|\n",
      "|200101|             BATTERY|6525|\n",
      "|200101|           NARCOTICS|4714|\n",
      "|200101|     CRIMINAL DAMAGE|3966|\n",
      "|200101|       OTHER OFFENSE|2799|\n",
      "|200101|             ASSAULT|2123|\n",
      "|200101| MOTOR VEHICLE THEFT|2095|\n",
      "|200101|            BURGLARY|1934|\n",
      "|200101|             ROBBERY|1396|\n",
      "|200101|  DECEPTIVE PRACTICE|1387|\n",
      "|200101|   CRIMINAL TRESPASS|1191|\n",
      "|200101|        PROSTITUTION| 563|\n",
      "|200101|   WEAPONS VIOLATION| 337|\n",
      "|200101|OFFENSE INVOLVING...| 239|\n",
      "|200101|         SEX OFFENSE| 218|\n",
      "|200101| CRIM SEXUAL ASSAULT| 162|\n",
      "|200101|PUBLIC PEACE VIOL...| 161|\n",
      "|200101|LIQUOR LAW VIOLATION| 101|\n",
      "|200101|          KIDNAPPING|  75|\n",
      "|200101|               ARSON|  67|\n",
      "+------+--------------------+----+\n",
      "only showing top 20 rows\n",
      "\n"
     ]
    }
   ],
   "source": [
    "crimes_groupedByType_df = (spark\n",
    "                           .read\n",
    "                           .option(\"sep\", \"\\t\")\n",
    "                           .csv(\"/user/ranga_rao/solutions/solution01/crimes_by_type_by_month/part-00000.gz\")\n",
    "                           \n",
    ")\n",
    "\n",
    "crimes_groupedByType_df.show()"
   ]
  },
  {
   "cell_type": "code",
   "execution_count": null,
   "metadata": {},
   "outputs": [],
   "source": []
  }
 ],
 "metadata": {
  "kernelspec": {
   "display_name": "Pyspark 2",
   "language": "python",
   "name": "pyspark2"
  },
  "language_info": {
   "codemirror_mode": {
    "name": "ipython",
    "version": 3
   },
   "file_extension": ".py",
   "mimetype": "text/x-python",
   "name": "python",
   "nbconvert_exporter": "python",
   "pygments_lexer": "ipython3",
   "version": "3.6.8"
  }
 },
 "nbformat": 4,
 "nbformat_minor": 4
}
